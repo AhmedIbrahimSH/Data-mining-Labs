{
  "nbformat": 4,
  "nbformat_minor": 0,
  "metadata": {
    "colab": {
      "provenance": []
    },
    "kernelspec": {
      "name": "python3",
      "display_name": "Python 3"
    },
    "language_info": {
      "name": "python"
    }
  },
  "cells": [
    {
      "cell_type": "code",
      "execution_count": 1,
      "metadata": {
        "id": "XuM0axS5KKlN"
      },
      "outputs": [],
      "source": [
        "import numpy as np\n",
        "import pandas as pd\n",
        "from sklearn.impute import SimpleImputer\n",
        "from sklearn.preprocessing import MinMaxScaler"
      ]
    },
    {
      "cell_type": "code",
      "source": [
        "df = pd.DataFrame({ 'Age' : [49,32,35,43,45,40,np.nan], 'Salary':[86400,57600,64800,73200,np.nan,69600,62400]})"
      ],
      "metadata": {
        "id": "8EpoZBVRKPv2"
      },
      "execution_count": 2,
      "outputs": []
    },
    {
      "cell_type": "code",
      "source": [
        "\n",
        "Num_Features =df.select_dtypes(exclude=['object']).columns.tolist()   # only numerical feat , doesnot include other non numerical objects\n",
        "imp_mean = SimpleImputer(missing_values=np.nan, strategy='mean')\n",
        "imp_mean.fit(df)\n",
        "df= imp_mean.transform(df)\n",
        "print(df)\n",
        "\n"
      ],
      "metadata": {
        "colab": {
          "base_uri": "https://localhost:8080/"
        },
        "id": "nhRHx73-KRVF",
        "outputId": "b096adca-e2c6-4ae6-8faf-2a10ffdfed16"
      },
      "execution_count": 3,
      "outputs": [
        {
          "output_type": "stream",
          "name": "stdout",
          "text": [
            "[[4.90000000e+01 8.64000000e+04]\n",
            " [3.20000000e+01 5.76000000e+04]\n",
            " [3.50000000e+01 6.48000000e+04]\n",
            " [4.30000000e+01 7.32000000e+04]\n",
            " [4.50000000e+01 6.90000000e+04]\n",
            " [4.00000000e+01 6.96000000e+04]\n",
            " [4.06666667e+01 6.24000000e+04]]\n"
          ]
        }
      ]
    },
    {
      "cell_type": "code",
      "source": [
        "normalizer= MinMaxScaler(feature_range=(0,1))\n",
        "norm_data= normalizer.fit_transform(df)\n",
        "print(norm_data)"
      ],
      "metadata": {
        "colab": {
          "base_uri": "https://localhost:8080/"
        },
        "id": "z0LihqBYKYXs",
        "outputId": "f8fd1c61-3336-4aed-9f28-c04a41c6e6c6"
      },
      "execution_count": 4,
      "outputs": [
        {
          "output_type": "stream",
          "name": "stdout",
          "text": [
            "[[1.         1.        ]\n",
            " [0.         0.        ]\n",
            " [0.17647059 0.25      ]\n",
            " [0.64705882 0.54166667]\n",
            " [0.76470588 0.39583333]\n",
            " [0.47058824 0.41666667]\n",
            " [0.50980392 0.16666667]]\n"
          ]
        }
      ]
    }
  ]
}